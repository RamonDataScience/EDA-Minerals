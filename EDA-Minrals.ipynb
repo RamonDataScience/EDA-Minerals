{
 "cells": [
  {
   "cell_type": "markdown",
   "id": "fe30b380",
   "metadata": {},
   "source": [
    "# EDA Minerals"
   ]
  },
  {
   "cell_type": "markdown",
   "id": "43ed0572",
   "metadata": {},
   "source": [
    "We will guess which elements are the most important in minerals.\n",
    "We will guess the most richest countries with minerals."
   ]
  },
  {
   "cell_type": "markdown",
   "id": "e595f391",
   "metadata": {},
   "source": [
    "## 1. Observe the dataset"
   ]
  },
  {
   "cell_type": "markdown",
   "id": "9dcccb83",
   "metadata": {},
   "source": [
    "### 1.1. Import necessary modules"
   ]
  },
  {
   "cell_type": "code",
   "execution_count": 1,
   "id": "32ceb1ff",
   "metadata": {},
   "outputs": [],
   "source": [
    "import pandas as pd\n",
    "import seaborn as sns\n",
    "sns.set()\n",
    "import matplotlib.pyplot as plt\n",
    "%matplotlib inline"
   ]
  },
  {
   "cell_type": "markdown",
   "id": "afae9139",
   "metadata": {},
   "source": [
    "### 1.2. Read and understand the data"
   ]
  },
  {
   "cell_type": "markdown",
   "id": "edb06137",
   "metadata": {},
   "source": [
    "Mineral Name = common name, \n",
    "RRUFF Chemistry = RRUFF formula, \n",
    "IMA Chemistry = International Mineralogical Association formula, \n",
    "Chemistry Elements = chemistry elements in mineral,\n",
    "IMA Number = unique IMA number,\n",
    "RRUFF IDs = unique RRUFF ID, \n",
    "Country of Type Locality = country,\n",
    "Year First Published = year the mineral was first officialy described,\n",
    "IMA Status = official status of IMA assigned,\n",
    "Structural Groupname = structural group of minerals,\n",
    "Fleischers Groupname = structural group for minerals by Fleischers Glossary 2008,\n",
    "Status Notes = publication,\n",
    "Crystal Systems = point groups,\n",
    "Oldest Known Age = age in megaannums (one million years)"
   ]
  },
  {
   "cell_type": "code",
   "execution_count": 4,
   "id": "922a241e",
   "metadata": {},
   "outputs": [],
   "source": [
    "minerals = pd.read_csv(\"RRUFF_Export_20230608_052338.csv\")"
   ]
  },
  {
   "cell_type": "code",
   "execution_count": 5,
   "id": "0be8e460",
   "metadata": {},
   "outputs": [
    {
     "data": {
      "text/html": [
       "<div>\n",
       "<style scoped>\n",
       "    .dataframe tbody tr th:only-of-type {\n",
       "        vertical-align: middle;\n",
       "    }\n",
       "\n",
       "    .dataframe tbody tr th {\n",
       "        vertical-align: top;\n",
       "    }\n",
       "\n",
       "    .dataframe thead th {\n",
       "        text-align: right;\n",
       "    }\n",
       "</style>\n",
       "<table border=\"1\" class=\"dataframe\">\n",
       "  <thead>\n",
       "    <tr style=\"text-align: right;\">\n",
       "      <th></th>\n",
       "      <th>Mineral Name</th>\n",
       "      <th>RRUFF Chemistry (plain)</th>\n",
       "      <th>IMA Chemistry (plain)</th>\n",
       "      <th>Chemistry Elements</th>\n",
       "      <th>IMA Number</th>\n",
       "      <th>RRUFF IDs</th>\n",
       "      <th>Country of Type Locality</th>\n",
       "      <th>Year First Published</th>\n",
       "      <th>IMA Status</th>\n",
       "      <th>Structural Groupname</th>\n",
       "      <th>Fleischers Groupname</th>\n",
       "      <th>Status Notes</th>\n",
       "      <th>Crystal Systems</th>\n",
       "      <th>Space Groups</th>\n",
       "      <th>Oldest Known Age (Ma)</th>\n",
       "      <th>Valence Elements</th>\n",
       "      <th>Paragenetic Modes</th>\n",
       "    </tr>\n",
       "  </thead>\n",
       "  <tbody>\n",
       "    <tr>\n",
       "      <th>1909</th>\n",
       "      <td>Garyansellite</td>\n",
       "      <td>Mg2Fe3+(PO4)2(OH)·2H2O</td>\n",
       "      <td>Mg2Fe3+(PO4)2(OH)·2H2O</td>\n",
       "      <td>Mg Fe P O H</td>\n",
       "      <td>IMA1981-019</td>\n",
       "      <td>NaN</td>\n",
       "      <td>Canada</td>\n",
       "      <td>1981</td>\n",
       "      <td>Approved</td>\n",
       "      <td>Reddingite</td>\n",
       "      <td>reddingite</td>\n",
       "      <td>Sturman B D, Dunn P J (1984) Garyansellite, a ...</td>\n",
       "      <td>orthorhombic</td>\n",
       "      <td>Pbna</td>\n",
       "      <td>NaN</td>\n",
       "      <td>Mg Fe^3+ P O H</td>\n",
       "      <td>Biotic, Secondary; Stage 7: Great Oxidation Ev...</td>\n",
       "    </tr>\n",
       "    <tr>\n",
       "      <th>4803</th>\n",
       "      <td>Shafranovskite</td>\n",
       "      <td>Na3K2(Mn2+,Fe3+,Na)4[Si9(O,OH)27](OH)2·nH2O</td>\n",
       "      <td>Na3K2(Mn,Fe,Na)4[Si9(O,OH)27](OH)2·nH2O</td>\n",
       "      <td>Na K Mn Fe Si O H</td>\n",
       "      <td>IMA1981-048</td>\n",
       "      <td>NaN</td>\n",
       "      <td>Russia</td>\n",
       "      <td>1981</td>\n",
       "      <td>Approved</td>\n",
       "      <td></td>\n",
       "      <td></td>\n",
       "      <td>Khomyakov A P, Vrublevskaya Z V, Zvyagin B B, ...</td>\n",
       "      <td>hexagonal</td>\n",
       "      <td>P31c</td>\n",
       "      <td>413.6</td>\n",
       "      <td>Na K Mn^2+ Fe^3+ Si O H</td>\n",
       "      <td>Abiotic, Primary; Stage 4b: Highly evolved ign...</td>\n",
       "    </tr>\n",
       "    <tr>\n",
       "      <th>795</th>\n",
       "      <td>Callaghanite</td>\n",
       "      <td>Cu2+2Mg2CO3(OH)6·2H2O</td>\n",
       "      <td>Cu2Mg2(CO3)(OH)6·2H2O</td>\n",
       "      <td>Cu Mg C O H</td>\n",
       "      <td>NaN</td>\n",
       "      <td>R050598</td>\n",
       "      <td>USA</td>\n",
       "      <td>1954</td>\n",
       "      <td>Approved,Grandfathered</td>\n",
       "      <td></td>\n",
       "      <td></td>\n",
       "      <td>Beck C W, Burns J H (1954) Callaghanite, a new...</td>\n",
       "      <td>monoclinic</td>\n",
       "      <td>C2/c</td>\n",
       "      <td>1080.0</td>\n",
       "      <td>Cu^2+ Mg C O H</td>\n",
       "      <td>Abiotic, Biotic, Secondary; Stage 4a: Earth's ...</td>\n",
       "    </tr>\n",
       "    <tr>\n",
       "      <th>3923</th>\n",
       "      <td>Owyheeite</td>\n",
       "      <td>Ag1+3Pb2+10Sb3+11S2-28</td>\n",
       "      <td>Ag3Pb10Sb11S28</td>\n",
       "      <td>Ag Pb Sb S</td>\n",
       "      <td>NaN</td>\n",
       "      <td>R060396 R070543</td>\n",
       "      <td>USA</td>\n",
       "      <td>1920</td>\n",
       "      <td>Approved,Grandfathered</td>\n",
       "      <td></td>\n",
       "      <td></td>\n",
       "      <td>Originally named silver-jamesonite:\\r\\nBurton ...</td>\n",
       "      <td>monoclinic</td>\n",
       "      <td>P2_1/c</td>\n",
       "      <td>2680.0</td>\n",
       "      <td>Ag^1+ Pb^2+ Sb^3+ S^2-</td>\n",
       "      <td>Abiotic, Primary; Stage 4a: Earth's earliest c...</td>\n",
       "    </tr>\n",
       "    <tr>\n",
       "      <th>3558</th>\n",
       "      <td>Montesommaite</td>\n",
       "      <td>K9(Si23Al9)O64·10H2O</td>\n",
       "      <td>K9(Si23Al9)O64·10H2O</td>\n",
       "      <td>K Si Al O H</td>\n",
       "      <td>IMA1988-038</td>\n",
       "      <td>NaN</td>\n",
       "      <td>Italy</td>\n",
       "      <td>1988</td>\n",
       "      <td>Approved</td>\n",
       "      <td></td>\n",
       "      <td>zeolite</td>\n",
       "      <td>Rouse R C, Dunn P J, Grice J D, Schlenker J L,...</td>\n",
       "      <td>tetragonal</td>\n",
       "      <td>I4_1/amd</td>\n",
       "      <td>0.4</td>\n",
       "      <td>K Si Al O H</td>\n",
       "      <td>Abiotic, Primary; Stage 3a: Earth's earliest H...</td>\n",
       "    </tr>\n",
       "  </tbody>\n",
       "</table>\n",
       "</div>"
      ],
      "text/plain": [
       "        Mineral Name                      RRUFF Chemistry (plain)  \\\n",
       "1909   Garyansellite                       Mg2Fe3+(PO4)2(OH)·2H2O   \n",
       "4803  Shafranovskite  Na3K2(Mn2+,Fe3+,Na)4[Si9(O,OH)27](OH)2·nH2O   \n",
       "795     Callaghanite                        Cu2+2Mg2CO3(OH)6·2H2O   \n",
       "3923       Owyheeite                       Ag1+3Pb2+10Sb3+11S2-28   \n",
       "3558   Montesommaite                         K9(Si23Al9)O64·10H2O   \n",
       "\n",
       "                        IMA Chemistry (plain) Chemistry Elements   IMA Number  \\\n",
       "1909                   Mg2Fe3+(PO4)2(OH)·2H2O        Mg Fe P O H  IMA1981-019   \n",
       "4803  Na3K2(Mn,Fe,Na)4[Si9(O,OH)27](OH)2·nH2O  Na K Mn Fe Si O H  IMA1981-048   \n",
       "795                     Cu2Mg2(CO3)(OH)6·2H2O        Cu Mg C O H          NaN   \n",
       "3923                           Ag3Pb10Sb11S28         Ag Pb Sb S          NaN   \n",
       "3558                     K9(Si23Al9)O64·10H2O        K Si Al O H  IMA1988-038   \n",
       "\n",
       "            RRUFF IDs Country of Type Locality  Year First Published  \\\n",
       "1909              NaN                   Canada                  1981   \n",
       "4803              NaN                   Russia                  1981   \n",
       "795           R050598                      USA                  1954   \n",
       "3923  R060396 R070543                      USA                  1920   \n",
       "3558              NaN                    Italy                  1988   \n",
       "\n",
       "                  IMA Status Structural Groupname Fleischers Groupname  \\\n",
       "1909                Approved           Reddingite           reddingite   \n",
       "4803                Approved                                             \n",
       "795   Approved,Grandfathered                                             \n",
       "3923  Approved,Grandfathered                                             \n",
       "3558                Approved                                   zeolite   \n",
       "\n",
       "                                           Status Notes Crystal Systems  \\\n",
       "1909  Sturman B D, Dunn P J (1984) Garyansellite, a ...    orthorhombic   \n",
       "4803  Khomyakov A P, Vrublevskaya Z V, Zvyagin B B, ...       hexagonal   \n",
       "795   Beck C W, Burns J H (1954) Callaghanite, a new...      monoclinic   \n",
       "3923  Originally named silver-jamesonite:\\r\\nBurton ...      monoclinic   \n",
       "3558  Rouse R C, Dunn P J, Grice J D, Schlenker J L,...      tetragonal   \n",
       "\n",
       "     Space Groups  Oldest Known Age (Ma)         Valence Elements  \\\n",
       "1909         Pbna                    NaN           Mg Fe^3+ P O H   \n",
       "4803         P31c                  413.6  Na K Mn^2+ Fe^3+ Si O H   \n",
       "795          C2/c                 1080.0           Cu^2+ Mg C O H   \n",
       "3923       P2_1/c                 2680.0   Ag^1+ Pb^2+ Sb^3+ S^2-   \n",
       "3558     I4_1/amd                    0.4              K Si Al O H   \n",
       "\n",
       "                                      Paragenetic Modes  \n",
       "1909  Biotic, Secondary; Stage 7: Great Oxidation Ev...  \n",
       "4803  Abiotic, Primary; Stage 4b: Highly evolved ign...  \n",
       "795   Abiotic, Biotic, Secondary; Stage 4a: Earth's ...  \n",
       "3923  Abiotic, Primary; Stage 4a: Earth's earliest c...  \n",
       "3558  Abiotic, Primary; Stage 3a: Earth's earliest H...  "
      ]
     },
     "execution_count": 5,
     "metadata": {},
     "output_type": "execute_result"
    }
   ],
   "source": [
    "minerals.sample(5)"
   ]
  },
  {
   "cell_type": "markdown",
   "id": "da72078d",
   "metadata": {},
   "source": [
    "### 1.3. Rename columns with complicated headings"
   ]
  },
  {
   "cell_type": "code",
   "execution_count": 7,
   "id": "428dbb2f",
   "metadata": {},
   "outputs": [],
   "source": [
    "minerals.rename(columns={'Mineral Name':'Mineral','Chemistry Elements':'Elements', 'Country of Type Locality' : 'Country', 'Crystal Systems':'Systems', 'Oldest Known Age (Ma)' : 'Age', 'Structural Groupname' : 'Groupname'\n",
    "    \n",
    "}, inplace=True)"
   ]
  },
  {
   "cell_type": "code",
   "execution_count": 14,
   "id": "d4c3600d",
   "metadata": {},
   "outputs": [
    {
     "data": {
      "text/html": [
       "<div>\n",
       "<style scoped>\n",
       "    .dataframe tbody tr th:only-of-type {\n",
       "        vertical-align: middle;\n",
       "    }\n",
       "\n",
       "    .dataframe tbody tr th {\n",
       "        vertical-align: top;\n",
       "    }\n",
       "\n",
       "    .dataframe thead th {\n",
       "        text-align: right;\n",
       "    }\n",
       "</style>\n",
       "<table border=\"1\" class=\"dataframe\">\n",
       "  <thead>\n",
       "    <tr style=\"text-align: right;\">\n",
       "      <th></th>\n",
       "      <th>Mineral</th>\n",
       "      <th>RRUFF Chemistry (plain)</th>\n",
       "      <th>IMA Chemistry (plain)</th>\n",
       "      <th>Elements</th>\n",
       "      <th>IMA Number</th>\n",
       "      <th>RRUFF IDs</th>\n",
       "      <th>Country</th>\n",
       "      <th>Year First Published</th>\n",
       "      <th>IMA Status</th>\n",
       "      <th>Groupname</th>\n",
       "      <th>Fleischers Groupname</th>\n",
       "      <th>Status Notes</th>\n",
       "      <th>Systems</th>\n",
       "      <th>Space Groups</th>\n",
       "      <th>Age</th>\n",
       "      <th>Valence Elements</th>\n",
       "      <th>Paragenetic Modes</th>\n",
       "    </tr>\n",
       "  </thead>\n",
       "  <tbody>\n",
       "    <tr>\n",
       "      <th>3862</th>\n",
       "      <td>Omeiite</td>\n",
       "      <td>Os3+(As2)3-</td>\n",
       "      <td>OsAs2</td>\n",
       "      <td>Os As</td>\n",
       "      <td>NaN</td>\n",
       "      <td>NaN</td>\n",
       "      <td>China</td>\n",
       "      <td>1978</td>\n",
       "      <td>Approved</td>\n",
       "      <td>Löllingite</td>\n",
       "      <td>Marcasite-Löllingite-Löllingite subgroup</td>\n",
       "      <td>Yingxin R, Qinde H, Jingao X (1978) A prelimin...</td>\n",
       "      <td>orthorhombic</td>\n",
       "      <td>Pnnm</td>\n",
       "      <td>2700.0</td>\n",
       "      <td>Os^3+ As</td>\n",
       "      <td>Abiotic, Primary, Secondary; Stage 2: Planetes...</td>\n",
       "    </tr>\n",
       "    <tr>\n",
       "      <th>5476</th>\n",
       "      <td>Vanadio-oxy-chromium-dravite</td>\n",
       "      <td>NaV3+3(Cr3+4Mg2)(Si6O18)(BO3)3(OH)3O</td>\n",
       "      <td>NaV3(Cr4Mg2)(Si6O18)(BO3)3(OH)3O</td>\n",
       "      <td>Na V Cr Mg Si O B H</td>\n",
       "      <td>IMA2012-034</td>\n",
       "      <td>NaN</td>\n",
       "      <td>Russia</td>\n",
       "      <td>2012</td>\n",
       "      <td>Approved</td>\n",
       "      <td>Tourmaline</td>\n",
       "      <td></td>\n",
       "      <td>Bosi F, Reznitskii L, Skogby H, Hålenius U (20...</td>\n",
       "      <td>hexagonal</td>\n",
       "      <td>R-3m</td>\n",
       "      <td>481.0</td>\n",
       "      <td>Na V^3+ Cr^3+ Mg Si O B H</td>\n",
       "      <td>Abiotic, Secondary; Stage 4a: Earth's earliest...</td>\n",
       "    </tr>\n",
       "    <tr>\n",
       "      <th>38</th>\n",
       "      <td>Agaite</td>\n",
       "      <td>Pb2+3Cu2+Te6+O5(OH)2(CO3)</td>\n",
       "      <td>Pb3Cu2+Te6+O5(OH)2(CO3)</td>\n",
       "      <td>Pb Cu Te O H C</td>\n",
       "      <td>IMA2011-115</td>\n",
       "      <td>NaN</td>\n",
       "      <td>USA</td>\n",
       "      <td>2011</td>\n",
       "      <td>Approved</td>\n",
       "      <td>Not in a structural group</td>\n",
       "      <td></td>\n",
       "      <td>Kampf A R, Mills S J, Housley R M, Marty J (20...</td>\n",
       "      <td>orthorhombic</td>\n",
       "      <td>Pca2_1</td>\n",
       "      <td>946.0</td>\n",
       "      <td>Pb^2+ Cu^2+ Te^6+ O H C</td>\n",
       "      <td>Biotic, Secondary; Stage 7: Great Oxidation Ev...</td>\n",
       "    </tr>\n",
       "    <tr>\n",
       "      <th>2224</th>\n",
       "      <td>Hermannroseite</td>\n",
       "      <td>CaCu2+(PO4)(OH)</td>\n",
       "      <td>CaCu(PO4)(OH)</td>\n",
       "      <td>Ca Cu P O H</td>\n",
       "      <td>IMA2010-006</td>\n",
       "      <td>NaN</td>\n",
       "      <td>Namibia</td>\n",
       "      <td>2010</td>\n",
       "      <td>Approved</td>\n",
       "      <td>Adelite</td>\n",
       "      <td></td>\n",
       "      <td>Schlüter J, Pohl D, Gebhard G (2011) The new m...</td>\n",
       "      <td>orthorhombic</td>\n",
       "      <td>P2_12_12_1</td>\n",
       "      <td>541.0</td>\n",
       "      <td>Ca Cu^2+ P O H</td>\n",
       "      <td>Biotic, Secondary; Stage 7: Great Oxidation Ev...</td>\n",
       "    </tr>\n",
       "    <tr>\n",
       "      <th>4716</th>\n",
       "      <td>Schieffelinite</td>\n",
       "      <td>Pb2+10Te6+6O20(OH)14(S6+O4)·5H2O</td>\n",
       "      <td>Pb10Te6+6O20(OH)14(SO4)(H2O)5</td>\n",
       "      <td>Pb Te O H S</td>\n",
       "      <td>IMA1979-043</td>\n",
       "      <td>R140572</td>\n",
       "      <td>USA</td>\n",
       "      <td>1979</td>\n",
       "      <td>Approved</td>\n",
       "      <td>Schieffelinite</td>\n",
       "      <td></td>\n",
       "      <td>Williams S A (1980) Schieffelinite, a new lead...</td>\n",
       "      <td>orthorhombic</td>\n",
       "      <td>C222_1</td>\n",
       "      <td>145.0</td>\n",
       "      <td>Pb^2+ Te^6+ O H S^6+</td>\n",
       "      <td>Biotic, Secondary; Stage 7: Great Oxidation Ev...</td>\n",
       "    </tr>\n",
       "  </tbody>\n",
       "</table>\n",
       "</div>"
      ],
      "text/plain": [
       "                           Mineral               RRUFF Chemistry (plain)  \\\n",
       "3862                       Omeiite                           Os3+(As2)3-   \n",
       "5476  Vanadio-oxy-chromium-dravite  NaV3+3(Cr3+4Mg2)(Si6O18)(BO3)3(OH)3O   \n",
       "38                          Agaite             Pb2+3Cu2+Te6+O5(OH)2(CO3)   \n",
       "2224                Hermannroseite                       CaCu2+(PO4)(OH)   \n",
       "4716                Schieffelinite      Pb2+10Te6+6O20(OH)14(S6+O4)·5H2O   \n",
       "\n",
       "                 IMA Chemistry (plain)             Elements   IMA Number  \\\n",
       "3862                             OsAs2                Os As          NaN   \n",
       "5476  NaV3(Cr4Mg2)(Si6O18)(BO3)3(OH)3O  Na V Cr Mg Si O B H  IMA2012-034   \n",
       "38             Pb3Cu2+Te6+O5(OH)2(CO3)       Pb Cu Te O H C  IMA2011-115   \n",
       "2224                     CaCu(PO4)(OH)          Ca Cu P O H  IMA2010-006   \n",
       "4716     Pb10Te6+6O20(OH)14(SO4)(H2O)5          Pb Te O H S  IMA1979-043   \n",
       "\n",
       "     RRUFF IDs  Country  Year First Published IMA Status  \\\n",
       "3862       NaN    China                  1978   Approved   \n",
       "5476       NaN   Russia                  2012   Approved   \n",
       "38         NaN      USA                  2011   Approved   \n",
       "2224       NaN  Namibia                  2010   Approved   \n",
       "4716   R140572      USA                  1979   Approved   \n",
       "\n",
       "                      Groupname                      Fleischers Groupname  \\\n",
       "3862                 Löllingite  Marcasite-Löllingite-Löllingite subgroup   \n",
       "5476                 Tourmaline                                             \n",
       "38    Not in a structural group                                             \n",
       "2224                    Adelite                                             \n",
       "4716             Schieffelinite                                             \n",
       "\n",
       "                                           Status Notes       Systems  \\\n",
       "3862  Yingxin R, Qinde H, Jingao X (1978) A prelimin...  orthorhombic   \n",
       "5476  Bosi F, Reznitskii L, Skogby H, Hålenius U (20...     hexagonal   \n",
       "38    Kampf A R, Mills S J, Housley R M, Marty J (20...  orthorhombic   \n",
       "2224  Schlüter J, Pohl D, Gebhard G (2011) The new m...  orthorhombic   \n",
       "4716  Williams S A (1980) Schieffelinite, a new lead...  orthorhombic   \n",
       "\n",
       "     Space Groups     Age           Valence Elements  \\\n",
       "3862         Pnnm  2700.0                   Os^3+ As   \n",
       "5476         R-3m   481.0  Na V^3+ Cr^3+ Mg Si O B H   \n",
       "38         Pca2_1   946.0    Pb^2+ Cu^2+ Te^6+ O H C   \n",
       "2224   P2_12_12_1   541.0             Ca Cu^2+ P O H   \n",
       "4716       C222_1   145.0       Pb^2+ Te^6+ O H S^6+   \n",
       "\n",
       "                                      Paragenetic Modes  \n",
       "3862  Abiotic, Primary, Secondary; Stage 2: Planetes...  \n",
       "5476  Abiotic, Secondary; Stage 4a: Earth's earliest...  \n",
       "38    Biotic, Secondary; Stage 7: Great Oxidation Ev...  \n",
       "2224  Biotic, Secondary; Stage 7: Great Oxidation Ev...  \n",
       "4716  Biotic, Secondary; Stage 7: Great Oxidation Ev...  "
      ]
     },
     "execution_count": 14,
     "metadata": {},
     "output_type": "execute_result"
    }
   ],
   "source": [
    "minerals.sample(5)"
   ]
  },
  {
   "cell_type": "markdown",
   "id": "8ec1dc32",
   "metadata": {},
   "source": [
    "## 2. Working with nulls"
   ]
  },
  {
   "cell_type": "code",
   "execution_count": 8,
   "id": "cdcd1146",
   "metadata": {},
   "outputs": [
    {
     "data": {
      "text/plain": [
       "Mineral                       0\n",
       "RRUFF Chemistry (plain)       0\n",
       "IMA Chemistry (plain)         0\n",
       "Elements                      0\n",
       "IMA Number                 1608\n",
       "RRUFF IDs                  3598\n",
       "Country                       0\n",
       "Year First Published          0\n",
       "IMA Status                    1\n",
       "Groupname                     0\n",
       "Fleischers Groupname          0\n",
       "Status Notes                  5\n",
       "Systems                     270\n",
       "Space Groups                745\n",
       "Age                        1080\n",
       "Valence Elements              0\n",
       "Paragenetic Modes            59\n",
       "dtype: int64"
      ]
     },
     "execution_count": 8,
     "metadata": {},
     "output_type": "execute_result"
    }
   ],
   "source": [
    "minerals.isnull().sum(axis = 0)"
   ]
  },
  {
   "cell_type": "markdown",
   "id": "c3dcd20c",
   "metadata": {},
   "source": [
    "## 3. Understand the distribution of chemistry elements in dataset"
   ]
  },
  {
   "cell_type": "markdown",
   "id": "141bc5a4",
   "metadata": {},
   "source": [
    "### 3.1. Split column Elements by space"
   ]
  },
  {
   "cell_type": "code",
   "execution_count": 18,
   "id": "034f59cc",
   "metadata": {},
   "outputs": [],
   "source": [
    "elem = minerals.set_index('Mineral').Elements.str.split(' ', expand=True).stack().reset_index('Mineral').reset_index(drop=True)"
   ]
  },
  {
   "cell_type": "code",
   "execution_count": 19,
   "id": "27805561",
   "metadata": {},
   "outputs": [],
   "source": [
    "elem.columns = ['Mineral', 'Element']"
   ]
  },
  {
   "cell_type": "code",
   "execution_count": 20,
   "id": "b9d46365",
   "metadata": {},
   "outputs": [
    {
     "data": {
      "text/html": [
       "<div>\n",
       "<style scoped>\n",
       "    .dataframe tbody tr th:only-of-type {\n",
       "        vertical-align: middle;\n",
       "    }\n",
       "\n",
       "    .dataframe tbody tr th {\n",
       "        vertical-align: top;\n",
       "    }\n",
       "\n",
       "    .dataframe thead th {\n",
       "        text-align: right;\n",
       "    }\n",
       "</style>\n",
       "<table border=\"1\" class=\"dataframe\">\n",
       "  <thead>\n",
       "    <tr style=\"text-align: right;\">\n",
       "      <th></th>\n",
       "      <th>Mineral</th>\n",
       "      <th>Element</th>\n",
       "    </tr>\n",
       "  </thead>\n",
       "  <tbody>\n",
       "    <tr>\n",
       "      <th>0</th>\n",
       "      <td>Abellaite</td>\n",
       "      <td>Na</td>\n",
       "    </tr>\n",
       "    <tr>\n",
       "      <th>1</th>\n",
       "      <td>Abellaite</td>\n",
       "      <td>Pb</td>\n",
       "    </tr>\n",
       "    <tr>\n",
       "      <th>2</th>\n",
       "      <td>Abellaite</td>\n",
       "      <td>C</td>\n",
       "    </tr>\n",
       "    <tr>\n",
       "      <th>3</th>\n",
       "      <td>Abellaite</td>\n",
       "      <td>O</td>\n",
       "    </tr>\n",
       "    <tr>\n",
       "      <th>4</th>\n",
       "      <td>Abellaite</td>\n",
       "      <td>H</td>\n",
       "    </tr>\n",
       "    <tr>\n",
       "      <th>...</th>\n",
       "      <td>...</td>\n",
       "      <td>...</td>\n",
       "    </tr>\n",
       "    <tr>\n",
       "      <th>27843</th>\n",
       "      <td>Zýkaite</td>\n",
       "      <td>Fe</td>\n",
       "    </tr>\n",
       "    <tr>\n",
       "      <th>27844</th>\n",
       "      <td>Zýkaite</td>\n",
       "      <td>As</td>\n",
       "    </tr>\n",
       "    <tr>\n",
       "      <th>27845</th>\n",
       "      <td>Zýkaite</td>\n",
       "      <td>O</td>\n",
       "    </tr>\n",
       "    <tr>\n",
       "      <th>27846</th>\n",
       "      <td>Zýkaite</td>\n",
       "      <td>S</td>\n",
       "    </tr>\n",
       "    <tr>\n",
       "      <th>27847</th>\n",
       "      <td>Zýkaite</td>\n",
       "      <td>H</td>\n",
       "    </tr>\n",
       "  </tbody>\n",
       "</table>\n",
       "<p>27848 rows × 2 columns</p>\n",
       "</div>"
      ],
      "text/plain": [
       "         Mineral Element\n",
       "0      Abellaite      Na\n",
       "1      Abellaite      Pb\n",
       "2      Abellaite       C\n",
       "3      Abellaite       O\n",
       "4      Abellaite       H\n",
       "...          ...     ...\n",
       "27843    Zýkaite      Fe\n",
       "27844    Zýkaite      As\n",
       "27845    Zýkaite       O\n",
       "27846    Zýkaite       S\n",
       "27847    Zýkaite       H\n",
       "\n",
       "[27848 rows x 2 columns]"
      ]
     },
     "execution_count": 20,
     "metadata": {},
     "output_type": "execute_result"
    }
   ],
   "source": [
    "elem"
   ]
  },
  {
   "cell_type": "markdown",
   "id": "49e7f5b1",
   "metadata": {},
   "source": [
    "### 3.2. Count all elements"
   ]
  },
  {
   "cell_type": "code",
   "execution_count": 21,
   "id": "9e46482a",
   "metadata": {},
   "outputs": [
    {
     "data": {
      "text/plain": [
       "O     4797\n",
       "H     3300\n",
       "Si    1638\n",
       "Ca    1451\n",
       "S     1286\n",
       "      ... \n",
       "Sm       2\n",
       "Re       2\n",
       "Hf       1\n",
       "Dy       1\n",
       "Er       1\n",
       "Name: Element, Length: 74, dtype: int64"
      ]
     },
     "execution_count": 21,
     "metadata": {},
     "output_type": "execute_result"
    }
   ],
   "source": [
    "elem['Element'].value_counts()"
   ]
  },
  {
   "cell_type": "code",
   "execution_count": 22,
   "id": "cc2bef76",
   "metadata": {},
   "outputs": [
    {
     "data": {
      "image/png": "[encoded data removed]",
      "text/plain": [
       "<Figure size 800x600 with 1 Axes>"
      ]
     },
     "metadata": {},
     "output_type": "display_data"
    }
   ],
   "source": [
    "elem['Element'].value_counts()[0:10].sort_values().plot(kind='barh', figsize=(8, 6))\n",
    "plt.xlabel(\"Count of occurrences\", labelpad=14)\n",
    "plt.ylabel(\"Chemistry Element\", labelpad = 14)\n",
    "plt.title(\"Most frequent elements in minerals\", y=1.02);"
   ]
  },
  {
   "cell_type": "markdown",
   "id": "c99c6183",
   "metadata": {},
   "source": [
    "## 4. Understand the distribution of countries in dataset"
   ]
  },
  {
   "cell_type": "markdown",
   "id": "b28c6f61",
   "metadata": {},
   "source": [
    "### 4.1. Understand data in Country column"
   ]
  },
  {
   "cell_type": "code",
   "execution_count": 23,
   "id": "6950b693",
   "metadata": {},
   "outputs": [
    {
     "data": {
      "text/plain": [
       "USA                                           874\n",
       "Russia                                        858\n",
       "Italy                                         367\n",
       "Germany                                       358\n",
       "Canada                                        239\n",
       "                                             ... \n",
       "Democratic Republic of the Congo / Namibia      1\n",
       "Switzerland / Australia                         1\n",
       "Nigeria                                         1\n",
       "France / USA ?                                  1\n",
       "Portugal / Germany                              1\n",
       "Name: Country, Length: 241, dtype: int64"
      ]
     },
     "execution_count": 23,
     "metadata": {},
     "output_type": "execute_result"
    }
   ],
   "source": [
    "minerals['Country'].value_counts()"
   ]
  },
  {
   "cell_type": "code",
   "execution_count": 24,
   "id": "f48cefa8",
   "metadata": {},
   "outputs": [],
   "source": [
    "countr = minerals.set_index('Mineral').Country.str.split(' / ', expand = True).stack().reset_index('Mineral').reset_index(drop=True)\n",
    "countr.columns = ['Mineral', 'Country']"
   ]
  },
  {
   "cell_type": "code",
   "execution_count": 25,
   "id": "ad25fb6e",
   "metadata": {},
   "outputs": [
    {
     "name": "stdout",
     "output_type": "stream",
     "text": [
      "<class 'pandas.core.frame.DataFrame'>\n",
      "RangeIndex: 6015 entries, 0 to 6014\n",
      "Data columns (total 2 columns):\n",
      " #   Column   Non-Null Count  Dtype \n",
      "---  ------   --------------  ----- \n",
      " 0   Mineral  6015 non-null   object\n",
      " 1   Country  6015 non-null   object\n",
      "dtypes: object(2)\n",
      "memory usage: 94.1+ KB\n"
     ]
    }
   ],
   "source": [
    "countr.info()"
   ]
  },
  {
   "cell_type": "code",
   "execution_count": 26,
   "id": "f8dfeb01",
   "metadata": {},
   "outputs": [
    {
     "data": {
      "text/html": [
       "<div>\n",
       "<style scoped>\n",
       "    .dataframe tbody tr th:only-of-type {\n",
       "        vertical-align: middle;\n",
       "    }\n",
       "\n",
       "    .dataframe tbody tr th {\n",
       "        vertical-align: top;\n",
       "    }\n",
       "\n",
       "    .dataframe thead th {\n",
       "        text-align: right;\n",
       "    }\n",
       "</style>\n",
       "<table border=\"1\" class=\"dataframe\">\n",
       "  <thead>\n",
       "    <tr style=\"text-align: right;\">\n",
       "      <th></th>\n",
       "      <th>Mineral</th>\n",
       "      <th>Country</th>\n",
       "    </tr>\n",
       "  </thead>\n",
       "  <tbody>\n",
       "    <tr>\n",
       "      <th>952</th>\n",
       "      <td>Chanabayaite</td>\n",
       "      <td>Chile</td>\n",
       "    </tr>\n",
       "    <tr>\n",
       "      <th>1717</th>\n",
       "      <td>Ferrorhodonite</td>\n",
       "      <td>Australia</td>\n",
       "    </tr>\n",
       "    <tr>\n",
       "      <th>2017</th>\n",
       "      <td>Giraudite-(Zn)</td>\n",
       "      <td>France</td>\n",
       "    </tr>\n",
       "    <tr>\n",
       "      <th>1851</th>\n",
       "      <td>Fontarnauite</td>\n",
       "      <td>Turkey</td>\n",
       "    </tr>\n",
       "    <tr>\n",
       "      <th>5695</th>\n",
       "      <td>Vyalsovite</td>\n",
       "      <td>Russia</td>\n",
       "    </tr>\n",
       "  </tbody>\n",
       "</table>\n",
       "</div>"
      ],
      "text/plain": [
       "             Mineral    Country\n",
       "952     Chanabayaite      Chile\n",
       "1717  Ferrorhodonite  Australia\n",
       "2017  Giraudite-(Zn)     France\n",
       "1851    Fontarnauite     Turkey\n",
       "5695      Vyalsovite     Russia"
      ]
     },
     "execution_count": 26,
     "metadata": {},
     "output_type": "execute_result"
    }
   ],
   "source": [
    "countr.sample(5)"
   ]
  },
  {
   "cell_type": "code",
   "execution_count": 27,
   "id": "8fb1f0fb",
   "metadata": {},
   "outputs": [
    {
     "data": {
      "text/plain": [
       "USA                       887\n",
       "Russia                    873\n",
       "Italy                     384\n",
       "Germany                   380\n",
       "Canada                    244\n",
       "                         ... \n",
       "Ethiopia                    1\n",
       "Argentina (meteorite)       1\n",
       "Antarctica (meteorite)      1\n",
       "Niger                       1\n",
       "Ukraine (meteorite)         1\n",
       "Name: Country, Length: 168, dtype: int64"
      ]
     },
     "execution_count": 27,
     "metadata": {},
     "output_type": "execute_result"
    }
   ],
   "source": [
    "countr['Country'].value_counts()"
   ]
  },
  {
   "cell_type": "code",
   "execution_count": 28,
   "id": "40a96425",
   "metadata": {},
   "outputs": [
    {
     "name": "stdout",
     "output_type": "stream",
     "text": [
      "              Mineral                 Country\n",
      "21    Addibischoffite     Algeria (meteorite)\n",
      "27          Adrianite      Mexico (meteorite)\n",
      "52          Ahrensite     Morocco (meteorite)\n",
      "63         Akimotoite   Australia (meteorite)\n",
      "97      Allabogdanite      Russia (meteorite)\n",
      "...               ...                     ...\n",
      "5846           Xieite       China (meteorite)\n",
      "5847        Xifengite       China (meteorite)\n",
      "5910        Zagamiite     Nigeria (meteorite)\n",
      "5911        Zagamiite     Morocco (meteorite)\n",
      "5999      Zolenskyite  Azerbaijan (meteorite)\n",
      "\n",
      "[113 rows x 2 columns]\n"
     ]
    }
   ],
   "source": [
    "print(countr[countr['Country'].str.contains('meteorite', regex=False)])"
   ]
  },
  {
   "cell_type": "code",
   "execution_count": 29,
   "id": "faf7ef6c",
   "metadata": {},
   "outputs": [
    {
     "name": "stdout",
     "output_type": "stream",
     "text": [
      "              Mineral        Country\n",
      "138          Alum-(K)        Italy ?\n",
      "139         Alum-(Na)              ?\n",
      "149          Alunogen              ?\n",
      "308      Arsenopyrite              ?\n",
      "328          Asbolane              ?\n",
      "355            Augite              ?\n",
      "442            Baryte              ?\n",
      "577      Bismuthinite              ?\n",
      "638           Bornite              ?\n",
      "938        Chalcocite              ?\n",
      "944      Chalcopyrite              ?\n",
      "1158       Cordierite      Germany ?\n",
      "1169         Corundum        India ?\n",
      "1537        Erythrite      Germany ?\n",
      "1672  Ferroalluaudite          USA ?\n",
      "3256        Magnetite              ?\n",
      "3477         Mesolite      Iceland ?\n",
      "4261     Phylloretine      Denmark ?\n",
      "5202          Taenite  New Zealand ?\n",
      "5769       Whewellite      Hungary ?\n"
     ]
    }
   ],
   "source": [
    "print(countr[countr['Country'].str.contains('?', regex=False)])"
   ]
  },
  {
   "cell_type": "code",
   "execution_count": 30,
   "id": "0e4315a4",
   "metadata": {},
   "outputs": [],
   "source": [
    "countr['Country'] = countr['Country'].replace({' \\?':''}, regex=True)\n",
    "countr.loc[countr['Country'].str.contains('meteorite', case=False), 'Country'] = 'meteorite'\n",
    "countr['Country'] = countr['Country'].replace('?', 'unknown')\n",
    "countr.loc[countr['Country'].str.contains('IDP', case=False), 'Country'] = 'IDP'"
   ]
  },
  {
   "cell_type": "markdown",
   "id": "0e4ea5b7",
   "metadata": {},
   "source": [
    "1. Cut unnecessary spaces and escape characters (just in case)\n",
    "2. Drop rows where country is unknown"
   ]
  },
  {
   "cell_type": "code",
   "execution_count": 31,
   "id": "84ee837c",
   "metadata": {},
   "outputs": [
    {
     "data": {
      "text/plain": [
       "USA                                 888\n",
       "Russia                              873\n",
       "Italy                               385\n",
       "Germany                             382\n",
       "Canada                              244\n",
       "Sweden                              193\n",
       "Australia                           174\n",
       "China                               165\n",
       "Japan                               157\n",
       "Czech Republic                      149\n",
       "Chile                               143\n",
       "United Kingdom                      130\n",
       "France                              124\n",
       "meteorite                           115\n",
       "Namibia                             108\n",
       "Democratic Republic of the Congo    101\n",
       "Switzerland                          96\n",
       "Norway                               85\n",
       "South Africa                         85\n",
       "Denmark (Greenland)                  83\n",
       "Name: Country, dtype: int64"
      ]
     },
     "execution_count": 31,
     "metadata": {},
     "output_type": "execute_result"
    }
   ],
   "source": [
    "countr['Country'].str.strip()\n",
    "countr.drop(countr[countr.Country == 'unknown'].index, inplace=True)\n",
    "countr['Country'].value_counts()[0:20]"
   ]
  },
  {
   "cell_type": "markdown",
   "id": "d1ee9b45",
   "metadata": {},
   "source": [
    "Plot the most richest (20) countries with the minerals:"
   ]
  },
  {
   "cell_type": "code",
   "execution_count": 32,
   "id": "06b7ce06",
   "metadata": {},
   "outputs": [
    {
     "data": {
      "image/png": "[encoded data removed]",
      "text/plain": [
       "<Figure size 1000x700 with 1 Axes>"
      ]
     },
     "metadata": {},
     "output_type": "display_data"
    }
   ],
   "source": [
    "countr['Country'].value_counts()[0:20].sort_values().plot(kind='barh', figsize=(10, 7))\n",
    "plt.xlabel(\"Count of occurancies\", labelpad=14)\n",
    "plt.ylabel(\"Country\", labelpad=14)\n",
    "plt.title(\"Count countries by minerals\", y=1.02);"
   ]
  },
  {
   "cell_type": "markdown",
   "id": "811f4d98",
   "metadata": {},
   "source": [
    "## 5. Merge countries and minerals with expanded elements"
   ]
  },
  {
   "cell_type": "markdown",
   "id": "4b5bce7e",
   "metadata": {},
   "source": [
    "Drop rows with not frequent minerals and countries"
   ]
  },
  {
   "cell_type": "code",
   "execution_count": 33,
   "id": "5377d021",
   "metadata": {},
   "outputs": [],
   "source": [
    "countr = countr[countr['Country'].map(countr['Country'].value_counts()) >= 140]\n",
    "elem = elem[elem['Element'].map(elem['Element'].value_counts()) >= 600]"
   ]
  },
  {
   "cell_type": "markdown",
   "id": "0f5b08db",
   "metadata": {},
   "source": [
    "Merge two dataframes (countries and elements) on Mineral column:"
   ]
  },
  {
   "cell_type": "code",
   "execution_count": 34,
   "id": "d493ac50",
   "metadata": {},
   "outputs": [
    {
     "data": {
      "text/html": [
       "<div>\n",
       "<style scoped>\n",
       "    .dataframe tbody tr th:only-of-type {\n",
       "        vertical-align: middle;\n",
       "    }\n",
       "\n",
       "    .dataframe tbody tr th {\n",
       "        vertical-align: top;\n",
       "    }\n",
       "\n",
       "    .dataframe thead th {\n",
       "        text-align: right;\n",
       "    }\n",
       "</style>\n",
       "<table border=\"1\" class=\"dataframe\">\n",
       "  <thead>\n",
       "    <tr style=\"text-align: right;\">\n",
       "      <th></th>\n",
       "      <th>Mineral</th>\n",
       "      <th>Country</th>\n",
       "      <th>Element</th>\n",
       "    </tr>\n",
       "  </thead>\n",
       "  <tbody>\n",
       "    <tr>\n",
       "      <th>0</th>\n",
       "      <td>Abelsonite</td>\n",
       "      <td>USA</td>\n",
       "      <td>H</td>\n",
       "    </tr>\n",
       "    <tr>\n",
       "      <th>1</th>\n",
       "      <td>Abenakiite-(Ce)</td>\n",
       "      <td>Canada</td>\n",
       "      <td>Na</td>\n",
       "    </tr>\n",
       "    <tr>\n",
       "      <th>2</th>\n",
       "      <td>Abenakiite-(Ce)</td>\n",
       "      <td>Canada</td>\n",
       "      <td>Si</td>\n",
       "    </tr>\n",
       "    <tr>\n",
       "      <th>3</th>\n",
       "      <td>Abenakiite-(Ce)</td>\n",
       "      <td>Canada</td>\n",
       "      <td>O</td>\n",
       "    </tr>\n",
       "    <tr>\n",
       "      <th>4</th>\n",
       "      <td>Abenakiite-(Ce)</td>\n",
       "      <td>Canada</td>\n",
       "      <td>P</td>\n",
       "    </tr>\n",
       "    <tr>\n",
       "      <th>...</th>\n",
       "      <td>...</td>\n",
       "      <td>...</td>\n",
       "      <td>...</td>\n",
       "    </tr>\n",
       "    <tr>\n",
       "      <th>13108</th>\n",
       "      <td>Zýkaite</td>\n",
       "      <td>Czech Republic</td>\n",
       "      <td>Fe</td>\n",
       "    </tr>\n",
       "    <tr>\n",
       "      <th>13109</th>\n",
       "      <td>Zýkaite</td>\n",
       "      <td>Czech Republic</td>\n",
       "      <td>As</td>\n",
       "    </tr>\n",
       "    <tr>\n",
       "      <th>13110</th>\n",
       "      <td>Zýkaite</td>\n",
       "      <td>Czech Republic</td>\n",
       "      <td>O</td>\n",
       "    </tr>\n",
       "    <tr>\n",
       "      <th>13111</th>\n",
       "      <td>Zýkaite</td>\n",
       "      <td>Czech Republic</td>\n",
       "      <td>S</td>\n",
       "    </tr>\n",
       "    <tr>\n",
       "      <th>13112</th>\n",
       "      <td>Zýkaite</td>\n",
       "      <td>Czech Republic</td>\n",
       "      <td>H</td>\n",
       "    </tr>\n",
       "  </tbody>\n",
       "</table>\n",
       "<p>13113 rows × 3 columns</p>\n",
       "</div>"
      ],
      "text/plain": [
       "               Mineral         Country Element\n",
       "0           Abelsonite             USA       H\n",
       "1      Abenakiite-(Ce)          Canada      Na\n",
       "2      Abenakiite-(Ce)          Canada      Si\n",
       "3      Abenakiite-(Ce)          Canada       O\n",
       "4      Abenakiite-(Ce)          Canada       P\n",
       "...                ...             ...     ...\n",
       "13108          Zýkaite  Czech Republic      Fe\n",
       "13109          Zýkaite  Czech Republic      As\n",
       "13110          Zýkaite  Czech Republic       O\n",
       "13111          Zýkaite  Czech Republic       S\n",
       "13112          Zýkaite  Czech Republic       H\n",
       "\n",
       "[13113 rows x 3 columns]"
      ]
     },
     "execution_count": 34,
     "metadata": {},
     "output_type": "execute_result"
    }
   ],
   "source": [
    "result = pd.merge(countr, elem, on='Mineral')\n",
    "result"
   ]
  },
  {
   "cell_type": "markdown",
   "id": "b1f9c6c5",
   "metadata": {},
   "source": [
    "Plot countries count by elements in minerals"
   ]
  },
  {
   "cell_type": "code",
   "execution_count": 35,
   "id": "dc108387",
   "metadata": {},
   "outputs": [
    {
     "data": {
      "text/plain": [
       "<seaborn.axisgrid.FacetGrid at 0x126bc5010>"
      ]
     },
     "execution_count": 35,
     "metadata": {},
     "output_type": "execute_result"
    },
    {
     "data": {
      "image/png": "[encoded data removed]",
      "text/plain": [
       "<Figure size 1676.12x800 with 1 Axes>"
      ]
     },
     "metadata": {},
     "output_type": "display_data"
    }
   ],
   "source": [
    "sns.catplot(x=\"Country\", hue=\"Element\", kind=\"count\", palette=\"pastel\", edgecolor=\".6\", data=result, height=8, aspect = 2)"
   ]
  },
  {
   "cell_type": "code",
   "execution_count": null,
   "id": "2e9a11ad",
   "metadata": {},
   "outputs": [],
   "source": []
  }
 ],
 "metadata": {
  "kernelspec": {
   "display_name": "Python 3 (ipykernel)",
   "language": "python",
   "name": "python3"
  },
  "language_info": {
   "codemirror_mode": {
    "name": "ipython",
    "version": 3
   },
   "file_extension": ".py",
   "mimetype": "text/x-python",
   "name": "python",
   "nbconvert_exporter": "python",
   "pygments_lexer": "ipython3",
   "version": "3.11.3"
  }
 },
 "nbformat": 4,
 "nbformat_minor": 5
}
